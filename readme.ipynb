{
 "cells": [
  {
   "cell_type": "markdown",
   "id": "c80a45dc-ad69-4597-9a16-aa73667e0bbd",
   "metadata": {},
   "source": [
    "# 使用Python调用coze"
   ]
  },
  {
   "cell_type": "markdown",
   "id": "3e0ade63-0cf7-40c7-b207-3b7896bab57b",
   "metadata": {},
   "source": [
    "coze官方只提供了curl调用范例，未提供python调用接口。\n",
    "\n",
    "一个有毅力的吃货花了些时间利用requests库进行了实现，封装成了coze这个python库。\n",
    "\n",
    "支持流式输出，支持多轮对话。\n",
    "\n"
   ]
  },
  {
   "cell_type": "markdown",
   "id": "d94b2044-dda6-477a-849d-0ac750250dde",
   "metadata": {},
   "source": [
    "## 一，安装coze库"
   ]
  },
  {
   "cell_type": "markdown",
   "id": "36829245-1051-4c64-a6cb-31abf875603a",
   "metadata": {},
   "source": [
    "```python\n",
    "pip install coze \n",
    "```"
   ]
  },
  {
   "cell_type": "markdown",
   "id": "86d141eb-8f4c-45fb-a4cc-106c3cac47e6",
   "metadata": {},
   "source": [
    "## 二，使用范例"
   ]
  },
  {
   "cell_type": "code",
   "execution_count": 1,
   "id": "46ae8299-ec12-44bd-8c8d-50f129d04ad5",
   "metadata": {},
   "outputs": [],
   "source": [
    "import os \n",
    "from coze import Coze \n",
    "os.environ['COZE_API_TOKEN'] = 'pat_xxx'\n",
    "os.environ['COZE_BOT_ID'] = \"7362845197946257419\"\n"
   ]
  },
  {
   "cell_type": "code",
   "execution_count": 13,
   "id": "835de287-57e7-42ea-b316-c83ece5a882a",
   "metadata": {},
   "outputs": [
    {
     "data": {
      "text/markdown": [
       "你好！有什么可以帮助你的？"
      ],
      "text/plain": [
       "<IPython.core.display.Markdown object>"
      ]
     },
     "metadata": {},
     "output_type": "display_data"
    },
    {
     "name": "stderr",
     "output_type": "stream",
     "text": [
      "register magic %%chat sucessed ...\n"
     ]
    }
   ],
   "source": [
    "chat = Coze(api_token= os.environ['COZE_API_TOKEN'],\n",
    "            bot_id = os.environ['COZE_BOT_ID'],\n",
    "            max_chat_rounds=20,\n",
    "            stream=True)\n"
   ]
  },
  {
   "cell_type": "markdown",
   "id": "9c72aeb4-9cd8-4980-a333-86b06734aa0b",
   "metadata": {},
   "source": [
    "可以使用__call__方法调用"
   ]
  },
  {
   "cell_type": "code",
   "execution_count": 14,
   "id": "afcff104-0acf-4a76-a4fd-3931b5b027cf",
   "metadata": {},
   "outputs": [
    {
     "name": "stderr",
     "output_type": "stream",
     "text": [
      "call function: liepin-job_recommendation; args ={'address': '北京', 'jobName': '高级产品经理'}\n"
     ]
    },
    {
     "data": {
      "text/markdown": [
       "北京近期推荐的高级产品经理岗位有以下几个，提供给对这一职业领域感兴趣的求职者：\n",
       "\n",
       "1. 获客多 Hokdo公司提供产品经理和高级产品经理岗位，位于北京万泉河地区，产业属于计算机软件并且公司处于A轮融资阶段。提供的薪资为20-30k或25-35k，15个月薪资。招聘负责人是许先生。\n",
       "\n",
       "2. 北京微云众网络科技有限公司招募的Futures Operations Director 职位涉及Web3 分布式产品运营，位于北京东四地区，公司规模100-499人，被标记具有较大的发展空间和国际化优势。\n",
       "\n",
       "3. 美团是一个大规模的互联网生活服务公司，已上市，招聘的岗位是“企平-产品专家（工单平台方向）”和“财务科技-税务产品经理（海外税务方向）”，位于北京南法信，提出的薪资在30-60k和25-35k之间，均为15个月薪资。\n",
       "\n",
       "以上职位都可以通过相应的跳转链接获取更详细的职位描述和申请方式。"
      ],
      "text/plain": [
       "<IPython.core.display.Markdown object>"
      ]
     },
     "metadata": {},
     "output_type": "display_data"
    }
   ],
   "source": [
    "response = chat('北京最新的高级产品经理岗位有推荐吗')"
   ]
  },
  {
   "cell_type": "markdown",
   "id": "e465c3f6-3f17-4cca-b470-f4e672e3b59b",
   "metadata": {},
   "source": [
    "在notebook中推荐使用jupyter魔法命令进行调用。"
   ]
  },
  {
   "cell_type": "code",
   "execution_count": 9,
   "id": "3046ef7f-c671-46d1-ac66-fc315dad7b89",
   "metadata": {},
   "outputs": [
    {
     "name": "stderr",
     "output_type": "stream",
     "text": [
      "call function: liepin-job_recommendation; args ={'address': '上海', 'jobName': '算法'}\n"
     ]
    },
    {
     "data": {
      "text/markdown": [
       "以下是上海最近推荐的算法岗位列表：\n",
       "\n",
       "1. **AIGC 算法工程师**：酷爱教育科技(上海)有限公司，薪水为14-22k·14薪，公司规模1-49人，位于上海-龙华。岗位链接：[点这里](https://www.liepin.com/job/1968037473.shtml)\n",
       "\n",
       "2. **饿了么-NLP/知识图谱算法专家**：饿了么，薪水为10-20k，公司规模10000人以上，位于上海。岗位链接：[点这里](https://www.liepin.com/job/1967971499.shtml)\n",
       "\n",
       "3. **车载智能系统开发工程师/专家**：芯安微众(上海)微电子技术有限公司，薪水为25-55k·14薪，公司规模100-499人，位于上海-淮海路。岗位链接：[点这里](https://www.liepin.com/job/1967961603.shtml)\n",
       "\n",
       "4. **人工智能工程师/专家**：芯安微众(上海)微电子技术有限公司，薪水同上，公司规模和位置同上。岗位链接：[点这里](https://www.liepin.com/job/1967959705.shtml)\n",
       "\n",
       "5. **大模型研究分析实习生**：美团，薪水为6-8k·15薪，公司规模10000人以上，位于上海。岗位链接：[点这里](https://www.liepin.com/job/1967761499.shtml)\n",
       "\n",
       "岗位简介和具体要求可以通过链接进入了解。"
      ],
      "text/plain": [
       "<IPython.core.display.Markdown object>"
      ]
     },
     "metadata": {},
     "output_type": "display_data"
    }
   ],
   "source": [
    "%%chat\n",
    "上海最近的算法岗位有推荐吗？给一下岗位简介和岗位链接。\n"
   ]
  },
  {
   "cell_type": "code",
   "execution_count": 10,
   "id": "98cabb24-5133-40e8-b7a8-f77891437e8d",
   "metadata": {},
   "outputs": [
    {
     "data": {
      "text/plain": [
       "[('北京最新的高级产品经理岗位有推荐吗',\n",
       "  '目前在北京的高级产品经理岗位有以下推荐：\\n\\n1. 获客多 Hokdo提供产品经理职位，月薪范围20-30k，共15薪，位于北京-万泉河。\\n   \\n2. 获客多 Hokdo还有高级产品经理职位，月薪25-35k，15薪，同样位于北京。\\n\\n3. 北京微云众网络科技有限公司提供一个Web3分布式的Futures Operations Director职位，月薪20-50k，公司位于北京-东四。\\n\\n4. 美团在南法信有产品专家职位（工单平台方向），月薪范围30-60k，15薪。\\n\\n5. 美团在南法信还有税务产品经理职位，专注于海外税务方向，月薪25-35k，15薪。\\n\\n上述岗位涵盖了从初创A轮的获客多 Hokdo到已上市的大公司美团，提供了不同规模和发展阶段的职位选择。相关职位详情链接可见领英网站。'),\n",
       " ('上海最近的算法岗位有推荐吗？给一下岗位简介和岗位链接。\\n',\n",
       "  '以下是上海最近推荐的算法岗位列表：\\n\\n1. **AIGC 算法工程师**：酷爱教育科技(上海)有限公司，薪水为14-22k·14薪，公司规模1-49人，位于上海-龙华。岗位链接：[点这里](https://www.liepin.com/job/1968037473.shtml)\\n\\n2. **饿了么-NLP/知识图谱算法专家**：饿了么，薪水为10-20k，公司规模10000人以上，位于上海。岗位链接：[点这里](https://www.liepin.com/job/1967971499.shtml)\\n\\n3. **车载智能系统开发工程师/专家**：芯安微众(上海)微电子技术有限公司，薪水为25-55k·14薪，公司规模100-499人，位于上海-淮海路。岗位链接：[点这里](https://www.liepin.com/job/1967961603.shtml)\\n\\n4. **人工智能工程师/专家**：芯安微众(上海)微电子技术有限公司，薪水同上，公司规模和位置同上。岗位链接：[点这里](https://www.liepin.com/job/1967959705.shtml)\\n\\n5. **大模型研究分析实习生**：美团，薪水为6-8k·15薪，公司规模10000人以上，位于上海。岗位链接：[点这里](https://www.liepin.com/job/1967761499.shtml)\\n\\n岗位简介和具体要求可以通过链接进入了解。')]"
      ]
     },
     "execution_count": 10,
     "metadata": {},
     "output_type": "execute_result"
    }
   ],
   "source": [
    "chat.history "
   ]
  },
  {
   "cell_type": "markdown",
   "id": "d40acc01-2cdd-473f-b8a0-f1f13ea45a8c",
   "metadata": {},
   "source": [
    "## 三，详细教程"
   ]
  },
  {
   "cell_type": "markdown",
   "id": "37251644-9fe0-4aee-a56b-1225878e2a37",
   "metadata": {},
   "source": [
    "参考 本项目下的 coze_tutorial.ipynb 文件"
   ]
  }
 ],
 "metadata": {
  "kernelspec": {
   "display_name": "Python 3 (ipykernel)",
   "language": "python",
   "name": "python3"
  },
  "language_info": {
   "codemirror_mode": {
    "name": "ipython",
    "version": 3
   },
   "file_extension": ".py",
   "mimetype": "text/x-python",
   "name": "python",
   "nbconvert_exporter": "python",
   "pygments_lexer": "ipython3",
   "version": "3.10.6"
  }
 },
 "nbformat": 4,
 "nbformat_minor": 5
}
