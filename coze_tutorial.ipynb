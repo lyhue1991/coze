{
 "cells": [
  {
   "cell_type": "markdown",
   "id": "ef7e395d-afe2-4f2c-95b5-8586a7aa958a",
   "metadata": {},
   "source": [
    "# Coze保姆级教程"
   ]
  },
  {
   "cell_type": "markdown",
   "id": "4495a0cc-3d86-470f-956b-54de194f6db6",
   "metadata": {},
   "source": [
    "coze是字节跳动旗下的零代码大模型Agent定制平台~\n",
    "\n",
    "具有以下主要功能特点：\n",
    "\n",
    "* 1，零成本发布: 可非常简单发布自己定制的bot到 豆包，公众后订阅号，微信客服，掘金等平台。\n",
    "\n",
    "* 2，多种模型选择： 包括 kimi，豆包，baichuan4, 通义千问，MiniMax，GLM4等均可使用... \n",
    "\n",
    "* 3，丰富的插件工具：必应搜索，文生图，图片理解，图片OCR，wolfram alpha，网页解析，文档解析，知乎新浪热榜，搜索猎聘岗位等等\n",
    "\n",
    "* 4，强大的知识库：支持文档，表格，图片注入 知识库数据。\n",
    "\n",
    "* 5，自定义插件工具：会编程的用户可以使用Python和javascript函数 设计自己的插件工具。\n",
    "\n",
    "* 6，自定义工作流：通过串联组合  插件工具， 自定义函数，配置了特定prompt的大模型等 设计出具有稳定输出的工作流，比如将 文章故事 转换成视频， 根据提示词 绘制漫画绘本 等等。\n",
    "\n",
    "* 7，自定义bot：可以选择一个模型，配置好prompt，添加各种工具插件，知识库，工作流，定制自己的bot。\n",
    "\n",
    "* 8，免费API接口调用: 可以通过http请求调用自己的bot，目前每个账号一天可以调用3000次。\n"
   ]
  },
  {
   "cell_type": "markdown",
   "id": "730f9cf0",
   "metadata": {},
   "source": [
    "## 〇，注册coze "
   ]
  },
  {
   "cell_type": "markdown",
   "id": "1a554ab5",
   "metadata": {},
   "source": [
    "coze网址是：https://www.coze.cn/。也可以搜索扣子进入页面去注册。用手机号注册即可。\n",
    "\n",
    "注册后进入了coze，左侧会是一个这样的页面。\n",
    "\n",
    "注意圈出来的这两个地方。\n",
    "\n",
    "蓝色的是官方详细的coze搭建智能体创建工作流自定义插件等的教程文档。\n",
    "\n",
    "红色的是API接口的使用文档，不是很好找，遇到不会的问题点进去看文档。\n",
    "\n",
    "\n",
    "![](data/扣子界面.png)"
   ]
  },
  {
   "cell_type": "code",
   "execution_count": null,
   "id": "0c3db824",
   "metadata": {},
   "outputs": [],
   "source": []
  },
  {
   "cell_type": "markdown",
   "id": "2922601c-2a75-47ac-89cf-8cfacd6bd408",
   "metadata": {},
   "source": [
    "## 一，定制Agent"
   ]
  },
  {
   "cell_type": "markdown",
   "id": "7c9f5c9a-8329-4ca5-812a-224e4576570f",
   "metadata": {},
   "source": [
    "我定制了一个 bot，叫做 梦中情炉。\n",
    "\n",
    "这个agent主要是为了调用coze丰富的插件能力，是一个无情的插件调用工具人。\n",
    "\n",
    "bot页面地址为：https://www.coze.cn/store/bot/7380551805660430372\n",
    "\n",
    "\n",
    "![](data/编辑界面.png)\n",
    "\n",
    "1，首先选择一个模型，我选择的是 moonshot，也就是kimi。\n",
    "\n",
    "2，写这个bot的人设与恢复逻辑。\n",
    "\n",
    "可以先写一个简单粗糙的prompt。\n",
    "\n",
    "比如我开始写的是：你是一个全能型agent，擅长分析问题，通过选择和组合工具获取信息并解决问题。\n",
    "\n",
    "然后点击右侧的自动优化，再反复人工调整，反复自动优化。\n",
    "\n",
    "\n",
    "3，接着配置一些插件工具和工作流。\n",
    "\n",
    "我给梦中情炉堆了许多工具：\n",
    "\n",
    "* (1)，必应文字搜索，图片搜索，头条搜索，国内股票查询\n",
    "* (2)，知乎热榜，掘金热榜，微博热榜，头条新闻查询\n",
    "* (3)，猎聘 岗位查询\n",
    "* (4)，python代码执行器，wolfram alpha\n",
    "* (5)，图片理解，图片OCR识别，文生图。\n",
    "\n",
    "简单起见，没有搞工作流。工作流相当于你自己整合大模型，和各种工具以便产出一个的输出。\n",
    "\n",
    "4，接着可以配置一些表格或者文档弄成知识库。\n",
    "\n",
    "简单起见，没有搞知识库。\n",
    "\n",
    "5，最后，可以配置一下开场白和预设问题。\n",
    "\n",
    "\n",
    "![](data/开场白.png)\n",
    "\n"
   ]
  },
  {
   "cell_type": "markdown",
   "id": "bcd5f5e1",
   "metadata": {},
   "source": [
    "## 二， 公众号接入"
   ]
  },
  {
   "cell_type": "markdown",
   "id": "36e71abe",
   "metadata": {},
   "source": [
    "配置好的话，可以在最右边一栏调试一下，然后点击右上角的发布就可以了。\n",
    "\n",
    "![](data/调试和发布.png)"
   ]
  },
  {
   "cell_type": "markdown",
   "id": "a81f1044",
   "metadata": {},
   "source": [
    "\n",
    "发布的时候配置一下公众号的APPID，扫码确认一下就可以了。\n",
    "\n",
    "公众号的APPID在公众号的后台的这个地方获取，没有公众号的话可以去注册一个。"
   ]
  },
  {
   "cell_type": "markdown",
   "id": "de930bed",
   "metadata": {},
   "source": [
    "![](./data/获取APPID.png)"
   ]
  },
  {
   "cell_type": "markdown",
   "id": "65d96303",
   "metadata": {},
   "source": [
    "配置好并发布后，就可以去微信公众号对话体验了。\n",
    "\n",
    "我发布在了我的一个小号：一个有毅力的吃货。大家可以去试试看，有时候可能略微有些慢。\n",
    "\n",
    "这个号因为设置了很多关键词给大家回复各种代码资料，如果接了coze的功能，大家就不好找这些代码资料了。\n",
    "\n",
    "![](./data/聊天截图.jpg)"
   ]
  },
  {
   "cell_type": "code",
   "execution_count": null,
   "id": "f41ebbc0",
   "metadata": {},
   "outputs": [],
   "source": []
  },
  {
   "cell_type": "markdown",
   "id": "01cd6d7e-f185-4554-a6a5-1bf59e963ea9",
   "metadata": {},
   "source": [
    "## 三，Python代码调用 "
   ]
  },
  {
   "cell_type": "markdown",
   "id": "0893e7ef-21d7-4074-bf92-5b3b082dbbe4",
   "metadata": {},
   "source": [
    "除了在公众号会话中接入，我们还可以使用Python代码接入。\n",
    "\n",
    "使用Python接口可以更加方便灵活地使用。\n",
    "\n",
    "使用Python代码接入的话，要做一些准备工作。\n",
    "\n",
    "1，发布的使用需要选上最下面这个Bots AS API发布。\n",
    "\n",
    "![](data/授权页面.png) \n",
    "\n",
    "\n",
    "2，然后去获取两个信息，一个是bot_id, 另一个是个人秘钥api_token。\n",
    "\n",
    "bot_id就在这个bot的编辑页面的后面的数字。\n",
    "\n",
    "个人秘钥api_token需要在这个网址创建。\n",
    "\n",
    "https://www.coze.cn/open/api\n",
    "\n",
    "\n",
    "\n",
    "![](./data/bot_id.png)\n",
    "\n",
    "\n",
    "\n",
    "\n"
   ]
  },
  {
   "cell_type": "markdown",
   "id": "108723fc",
   "metadata": {},
   "source": [
    "原始的API接口文档是使用bash curl命令调用的。\n",
    "\n",
    "我把它用Python代码，一个Coze类封装了一遍，更加好用一些。"
   ]
  },
  {
   "cell_type": "code",
   "execution_count": 1,
   "id": "3842a4de-9b87-4e1b-b40d-b2f9356d4735",
   "metadata": {},
   "outputs": [],
   "source": [
    "import sys \n",
    "import requests,json \n",
    "from IPython.display import display,clear_output,Markdown\n",
    "\n",
    "API_TOKEN = 'pat_xxxxxxxxx'\n",
    "BOT_ID = \"7362845197946257419\"\n",
    "\n",
    "class Coze:\n",
    "    def __init__(self,\n",
    "                 bot_id= BOT_ID,\n",
    "                 api_token = API_TOKEN,\n",
    "                 max_chat_rounds=20,\n",
    "                 stream=True,\n",
    "                 history=None\n",
    "                ):\n",
    "        self.bot_id = bot_id\n",
    "        self.api_token = api_token \n",
    "        self.history = [] if history is None else history\n",
    "        self.max_chat_rounds = max_chat_rounds\n",
    "        self.stream = stream\n",
    "        self.url = 'https://api.coze.cn/open_api/v2/chat'\n",
    "        self.headers = {\n",
    "            'Authorization': f'Bearer {self.api_token}',\n",
    "            'Content-Type': 'application/json','Accept': '*/*',\n",
    "            'Host': 'api.coze.cn','Connection': 'keep-alive'\n",
    "        }\n",
    "        try:\n",
    "            self.register_magic() \n",
    "            response = self('你好')\n",
    "            if not self.stream:\n",
    "                print(response)\n",
    "            print('register magic %%chat sucessed ...',file=sys.stderr)\n",
    "            self.history = self.history[:-1]\n",
    "        except Exception as err:\n",
    "            print('register magic %%chat failed ...',file=sys.stderr)\n",
    "            print(err)\n",
    "             \n",
    "    @classmethod\n",
    "    def build_messages(cls,history=None):\n",
    "        messages = []\n",
    "        history = history if history else [] \n",
    "        for prompt,response in history:\n",
    "            pair = [{\"role\": \"user\", \"content\": prompt,\n",
    "                     \"content_type\":\"text\"},\n",
    "                {\"role\": \"assistant\", \"content\": response}]\n",
    "            messages.extend(pair)\n",
    "        return messages\n",
    "\n",
    "    @staticmethod\n",
    "    def get_response(messages):\n",
    "        clear_output(wait=True)\n",
    "        dfmsg = pd.DataFrame(messages)\n",
    "        dftool = dfmsg.loc[dfmsg['type']=='function_call']\n",
    "        for content in dftool['content']:\n",
    "            info =json.loads(content)\n",
    "            s = 'call function: '+str(info['name'])+'; args ='+str(info['arguments'])\n",
    "            print(s,file=sys.stderr)\n",
    "        dfans = dfmsg.loc[dfmsg['type']=='answer']\n",
    "        if len(dfans)>0:\n",
    "            response = ''.join(dfans['content'].tolist())\n",
    "        else:\n",
    "            response = ''\n",
    "        display(Markdown(response))\n",
    "        return response\n",
    "\n",
    "    def chat(self,query,stream=False):\n",
    "        data = {\n",
    "            \"conversation_id\": \"123\",\n",
    "            \"bot_id\": self.bot_id,\n",
    "            \"user\": \"一个有毅力的吃货\",\n",
    "            \"query\": query,\n",
    "            \"stream\": stream,\n",
    "            \"chat_history\": self.build_messages(self.history)\n",
    "        }\n",
    "        json_data = json.dumps(data)\n",
    "        result = requests.post(self.url, headers=self.headers, \n",
    "            data=json_data, stream=data[\"stream\"])\n",
    "    \n",
    "        if not data[\"stream\"] and result.status_code == 200:\n",
    "            dic = json.loads(result.content.decode('utf-8'))\n",
    "            response = self.get_response(dic['messages'])\n",
    "                \n",
    "        elif data['stream'] and result.status_code == 200:\n",
    "            messages = []\n",
    "            for line in result.iter_lines():\n",
    "                if not line:\n",
    "                    continue\n",
    "                try:\n",
    "                    line = line.decode('utf-8')\n",
    "                    line = line[5:] if line.startswith('data:') else line\n",
    "                    dic = json.loads(line)\n",
    "                    if dic['event']=='message':\n",
    "                        messages.append(dic['message'])\n",
    "                    response = self.get_response(messages)\n",
    "                except Exception as err:\n",
    "                    print(err)\n",
    "                    break \n",
    "        else:\n",
    "            print(f\"request failed, status code: {result.status_code}\")\n",
    "        result.close()\n",
    "        return response\n",
    "        \n",
    "        \n",
    "    def __call__(self,query):\n",
    "        from IPython.display import display,clear_output \n",
    "        len_his = len(self.history)\n",
    "        if len_his>=self.max_chat_rounds+1:\n",
    "            self.history = self.history[len_his-self.max_chat_rounds:]\n",
    "        response = self.chat(query,stream=self.stream) \n",
    "        self.history.append((query,response))\n",
    "        return response \n",
    "\n",
    "    def register_magic(self):\n",
    "        import IPython\n",
    "        from IPython.core.magic import (Magics, magics_class, line_magic,\n",
    "                                        cell_magic, line_cell_magic)\n",
    "        @magics_class\n",
    "        class ChatMagics(Magics):\n",
    "            def __init__(self,shell, pipe):\n",
    "                super().__init__(shell)\n",
    "                self.pipe = pipe\n",
    "\n",
    "            @line_cell_magic\n",
    "            def chat(self, line, cell=None):\n",
    "                \"Magic that works both as %chat and as %%chat\"\n",
    "                if cell is None:\n",
    "                    return self.pipe(line)\n",
    "                else:\n",
    "                    self.pipe(cell)       \n",
    "        ipython = IPython.get_ipython()\n",
    "        magic = ChatMagics(ipython,self)\n",
    "        ipython.register_magics(magic)\n",
    "        "
   ]
  },
  {
   "cell_type": "code",
   "execution_count": 15,
   "id": "044fbe93-447c-4cee-8eb4-acfe8a1cdb51",
   "metadata": {},
   "outputs": [
    {
     "data": {
      "text/markdown": [
       "您好！有什么我可以帮助您的吗？如果您有任何问题或者需要协助，随时告诉我。"
      ],
      "text/plain": [
       "<IPython.core.display.Markdown object>"
      ]
     },
     "metadata": {},
     "output_type": "display_data"
    },
    {
     "name": "stderr",
     "output_type": "stream",
     "text": [
      "register magic %%chat sucessed ...\n"
     ]
    }
   ],
   "source": [
    "chat = Coze(max_chat_rounds=10)"
   ]
  },
  {
   "cell_type": "code",
   "execution_count": 16,
   "id": "f0fb1a1e-f640-46dc-9ceb-bfd2298553af",
   "metadata": {},
   "outputs": [
    {
     "data": {
      "text/markdown": [
       "您想要查找广州的算法岗位。请问您是否有特定的公司类型或公司名称，以及对薪水的范围有具体的要求吗？"
      ],
      "text/plain": [
       "<IPython.core.display.Markdown object>"
      ]
     },
     "metadata": {},
     "output_type": "display_data"
    }
   ],
   "source": [
    "%%chat\n",
    "广州有什么最新的算法岗位吗？提供一下原始岗位链接。"
   ]
  },
  {
   "cell_type": "code",
   "execution_count": 17,
   "id": "fd51f9b1-745d-4200-8997-d10c39375f7e",
   "metadata": {},
   "outputs": [
    {
     "name": "stderr",
     "output_type": "stream",
     "text": [
      "call function: liepin-job_recommendation; args ={'address': '广州', 'jobName': '算法', 'salaryCap': '200000', 'salaryKind': '年薪'}\n"
     ]
    },
    {
     "data": {
      "text/markdown": [
       "广州地区当前最新的算法岗位信息如下：\n",
       "\n",
       "1. 岗位名称 **算法工程师**，来自 **深海智人** 公司。薪资范围为17-25k。详细信息请参阅 [岗位链接](https://www.liepin.com/job/1967869471.shtml?mscid=so_pc_002)。\n",
       "\n",
       "2. 岗位名称 **自动驾驶.控制策略与算法开发(J11430)**，来自 **东风日产广州** 公司。薪资范围为16-24k。详细信息请参阅 [岗位链接](https://www.liepin.com/job/1966930237.shtml?mscid=so_pc_002)。\n",
       "\n",
       "3. 岗位名称 **自动驾驶.传感器融合策略与算法开发(J11429)**，同样来自 **东风日产广州** 公司。薪资也位于16-24k的范围。详细信息请参阅 [岗位链接](https://www.liepin.com/job/1966929783.shtml?mscid=so_pc_002)。\n",
       "\n",
       "4. 来自 **东风日产广州** 的 **车联网智能导航应用开发(J11115)** 岗位信息也可查看 [岗位链接](https://www.liepin.com/job/1947687947.shtml?mscid=so_pc_002)。\n",
       "\n",
       "5. 另有一个未明确公司名称的大型整车制造公司提供的 **自动驾驶方向开发** 岗位，薪资15-20k，详情见 [岗位链接](https://www.liepin.com/a/55137003.shtml?mscid=so_pc_002)。\n",
       "\n",
       "这些岗位覆盖了车辆自动化和智能控制的各个方面，并来自不同规模的公司。具体详情可通过岗位链接进行查询。"
      ],
      "text/plain": [
       "<IPython.core.display.Markdown object>"
      ]
     },
     "metadata": {},
     "output_type": "display_data"
    }
   ],
   "source": [
    "%%chat\n",
    "互联网行业就可以，薪资20k以上的。"
   ]
  },
  {
   "cell_type": "code",
   "execution_count": 18,
   "id": "ffaf26ef",
   "metadata": {},
   "outputs": [
    {
     "data": {
      "text/plain": [
       "[('广州有什么最新的算法岗位吗？提供一下原始岗位链接\\n',\n",
       "  '您想要查找广州的算法岗位。请问您是否有特定的公司类型或公司名称，以及对薪水的范围有具体的要求吗？'),\n",
       " ('互联网行业就可以，薪资20k以上的。\\n',\n",
       "  '广州地区当前最新的算法岗位信息如下：\\n\\n1. 岗位名称 **算法工程师**，来自 **深海智人** 公司。薪资范围为17-25k。详细信息请参阅 [岗位链接](https://www.liepin.com/job/1967869471.shtml?mscid=so_pc_002)。\\n\\n2. 岗位名称 **自动驾驶.控制策略与算法开发(J11430)**，来自 **东风日产广州** 公司。薪资范围为16-24k。详细信息请参阅 [岗位链接](https://www.liepin.com/job/1966930237.shtml?mscid=so_pc_002)。\\n\\n3. 岗位名称 **自动驾驶.传感器融合策略与算法开发(J11429)**，同样来自 **东风日产广州** 公司。薪资也位于16-24k的范围。详细信息请参阅 [岗位链接](https://www.liepin.com/job/1966929783.shtml?mscid=so_pc_002)。\\n\\n4. 来自 **东风日产广州** 的 **车联网智能导航应用开发(J11115)** 岗位信息也可查看 [岗位链接](https://www.liepin.com/job/1947687947.shtml?mscid=so_pc_002)。\\n\\n5. 另有一个未明确公司名称的大型整车制造公司提供的 **自动驾驶方向开发** 岗位，薪资15-20k，详情见 [岗位链接](https://www.liepin.com/a/55137003.shtml?mscid=so_pc_002)。\\n\\n这些岗位覆盖了车辆自动化和智能控制的各个方面，并来自不同规模的公司。具体详情可通过岗位链接进行查询。')]"
      ]
     },
     "execution_count": 18,
     "metadata": {},
     "output_type": "execute_result"
    }
   ],
   "source": [
    "chat.history "
   ]
  },
  {
   "cell_type": "code",
   "execution_count": null,
   "id": "1d758543-a70f-4b13-a1d6-3b0eedb7f673",
   "metadata": {},
   "outputs": [],
   "source": []
  }
 ],
 "metadata": {
  "kernelspec": {
   "display_name": "Python 3 (ipykernel)",
   "language": "python",
   "name": "python3"
  },
  "language_info": {
   "codemirror_mode": {
    "name": "ipython",
    "version": 3
   },
   "file_extension": ".py",
   "mimetype": "text/x-python",
   "name": "python",
   "nbconvert_exporter": "python",
   "pygments_lexer": "ipython3",
   "version": "3.10.6"
  }
 },
 "nbformat": 4,
 "nbformat_minor": 5
}
