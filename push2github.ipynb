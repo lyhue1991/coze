{
 "cells": [
  {
   "cell_type": "markdown",
   "id": "5d828e3d",
   "metadata": {},
   "source": [
    "### Upload to  Pypi"
   ]
  },
  {
   "cell_type": "code",
   "execution_count": 1,
   "id": "60b279bc",
   "metadata": {},
   "outputs": [
    {
     "name": "stdout",
     "output_type": "stream",
     "text": [
      "running sdist\n",
      "running egg_info\n",
      "creating coze.egg-info\n",
      "writing coze.egg-info/PKG-INFO\n",
      "writing dependency_links to coze.egg-info/dependency_links.txt\n",
      "writing top-level names to coze.egg-info/top_level.txt\n",
      "writing manifest file 'coze.egg-info/SOURCES.txt'\n",
      "reading manifest file 'coze.egg-info/SOURCES.txt'\n",
      "writing manifest file 'coze.egg-info/SOURCES.txt'\n",
      "running check\n",
      "creating coze-0.0.1\n",
      "creating coze-0.0.1/coze\n",
      "creating coze-0.0.1/coze.egg-info\n",
      "copying files to coze-0.0.1...\n",
      "copying setup.py -> coze-0.0.1\n",
      "copying coze/__init__.py -> coze-0.0.1/coze\n",
      "copying coze/coze.py -> coze-0.0.1/coze\n",
      "copying coze.egg-info/PKG-INFO -> coze-0.0.1/coze.egg-info\n",
      "copying coze.egg-info/SOURCES.txt -> coze-0.0.1/coze.egg-info\n",
      "copying coze.egg-info/dependency_links.txt -> coze-0.0.1/coze.egg-info\n",
      "copying coze.egg-info/top_level.txt -> coze-0.0.1/coze.egg-info\n",
      "Writing coze-0.0.1/setup.cfg\n",
      "creating dist\n",
      "Creating tar archive\n",
      "removing 'coze-0.0.1' (and everything under it)\n",
      "running bdist_wheel\n",
      "running build\n",
      "running build_py\n",
      "creating build\n",
      "creating build/lib\n",
      "creating build/lib/coze\n",
      "copying coze/__init__.py -> build/lib/coze\n",
      "copying coze/coze.py -> build/lib/coze\n",
      "installing to build/bdist.macosx-11.0-arm64/wheel\n",
      "running install\n",
      "running install_lib\n",
      "creating build/bdist.macosx-11.0-arm64\n",
      "creating build/bdist.macosx-11.0-arm64/wheel\n",
      "creating build/bdist.macosx-11.0-arm64/wheel/coze\n",
      "copying build/lib/coze/__init__.py -> build/bdist.macosx-11.0-arm64/wheel/coze\n",
      "copying build/lib/coze/coze.py -> build/bdist.macosx-11.0-arm64/wheel/coze\n",
      "running install_egg_info\n",
      "Copying coze.egg-info to build/bdist.macosx-11.0-arm64/wheel/coze-0.0.1-py3.10.egg-info\n",
      "running install_scripts\n",
      "creating build/bdist.macosx-11.0-arm64/wheel/coze-0.0.1.dist-info/WHEEL\n",
      "creating 'dist/coze-0.0.1-py3-none-any.whl' and adding 'build/bdist.macosx-11.0-arm64/wheel' to it\n",
      "adding 'coze/__init__.py'\n",
      "adding 'coze/coze.py'\n",
      "adding 'coze-0.0.1.dist-info/METADATA'\n",
      "adding 'coze-0.0.1.dist-info/WHEEL'\n",
      "adding 'coze-0.0.1.dist-info/top_level.txt'\n",
      "adding 'coze-0.0.1.dist-info/RECORD'\n",
      "removing build/bdist.macosx-11.0-arm64/wheel\n"
     ]
    },
    {
     "name": "stderr",
     "output_type": "stream",
     "text": [
      "/Users/liangyun2/miniforge3/lib/python3.10/site-packages/setuptools/command/install.py:34: SetuptoolsDeprecationWarning: setup.py install is deprecated. Use build and pip and other standards-based tools.\n",
      "  warnings.warn(\n"
     ]
    }
   ],
   "source": [
    "%run setup.py sdist bdist_wheel"
   ]
  },
  {
   "cell_type": "code",
   "execution_count": null,
   "id": "e30d81ab-80c2-4851-8ffb-424a72c5526d",
   "metadata": {},
   "outputs": [],
   "source": [
    "!pip install coze"
   ]
  },
  {
   "cell_type": "code",
   "execution_count": null,
   "id": "30676d3d",
   "metadata": {},
   "outputs": [],
   "source": [
    "#!pip install --user --upgrade twine"
   ]
  },
  {
   "cell_type": "code",
   "execution_count": null,
   "id": "8becab65",
   "metadata": {},
   "outputs": [],
   "source": [
    "# upload the repository to pypi (test)\n",
    "#!python3 -m twine upload --repository-url https://test.pypi.org/legacy/ dist/*"
   ]
  },
  {
   "cell_type": "code",
   "execution_count": null,
   "id": "e918e7d1",
   "metadata": {},
   "outputs": [],
   "source": [
    "# install the repository from pypi (test)\n",
    "#!python3 -m pip install --index-url https://test.pypi.org/simple/ --no-deps torchkeras"
   ]
  },
  {
   "cell_type": "markdown",
   "id": "639a6307",
   "metadata": {},
   "source": [
    "### Upload to github"
   ]
  },
  {
   "cell_type": "code",
   "execution_count": 4,
   "id": "d53dc4a1-f1b1-404c-9aa4-b8f4b8a2a085",
   "metadata": {},
   "outputs": [
    {
     "name": "stdout",
     "output_type": "stream",
     "text": [
      "Initialized empty Git repository in /Users/liangyun2/CodeFiles/coze/.git/\n"
     ]
    }
   ],
   "source": [
    "!git init "
   ]
  },
  {
   "cell_type": "code",
   "execution_count": 5,
   "id": "7a76c373",
   "metadata": {},
   "outputs": [],
   "source": [
    "!git config --global user.name \"lyhue1991\"\n",
    "!git config --global user.email \"lyhue1991@163.com\""
   ]
  },
  {
   "cell_type": "code",
   "execution_count": 6,
   "id": "7a23b162",
   "metadata": {},
   "outputs": [],
   "source": [
    "!git add -A "
   ]
  },
  {
   "cell_type": "code",
   "execution_count": 7,
   "id": "cdb41033",
   "metadata": {},
   "outputs": [
    {
     "name": "stdout",
     "output_type": "stream",
     "text": [
      "[main (root-commit) 5a4b60b] init\n",
      " 17 files changed, 1413 insertions(+)\n",
      " create mode 100644 .gitignore\n",
      " create mode 100644 coze/__init__.py\n",
      " create mode 100644 coze/coze.py\n",
      " create mode 100644 coze_tutorial.ipynb\n",
      " create mode 100644 data/bot_id.png\n",
      " create mode 100644 data/coze_jupyter.png\n",
      " create mode 100644 \"data/\\345\\274\\200\\345\\234\\272\\347\\231\\275.png\"\n",
      " create mode 100644 \"data/\\346\\211\\243\\345\\255\\220\\347\\225\\214\\351\\235\\242.png\"\n",
      " create mode 100644 \"data/\\346\\216\\210\\346\\235\\203\\351\\241\\265\\351\\235\\242.png\"\n",
      " create mode 100644 \"data/\\347\\274\\226\\350\\276\\221\\347\\225\\214\\351\\235\\242.png\"\n",
      " create mode 100644 \"data/\\350\\201\\212\\345\\244\\251\\346\\210\\252\\345\\233\\276.jpg\"\n",
      " create mode 100644 \"data/\\350\\216\\267\\345\\217\\226APPID.png\"\n",
      " create mode 100644 \"data/\\350\\260\\203\\350\\257\\225\\345\\222\\214\\345\\217\\221\\345\\270\\203.png\"\n",
      " create mode 100644 push2github.ipynb\n",
      " create mode 100644 readme.ipynb\n",
      " create mode 100644 readme.md\n",
      " create mode 100644 setup.py\n"
     ]
    }
   ],
   "source": [
    "!git commit -m \"init \"\n"
   ]
  },
  {
   "cell_type": "code",
   "execution_count": null,
   "id": "f4588e72-d794-4365-8438-ecfa0890d6ed",
   "metadata": {},
   "outputs": [],
   "source": [
    "#!git reset 90172d62e12c2 "
   ]
  },
  {
   "cell_type": "code",
   "execution_count": null,
   "id": "bcaaf06d",
   "metadata": {},
   "outputs": [],
   "source": [
    "!git pull origin master "
   ]
  },
  {
   "cell_type": "code",
   "execution_count": null,
   "id": "a543fbf2",
   "metadata": {},
   "outputs": [],
   "source": [
    "#!git remote remove origin "
   ]
  },
  {
   "cell_type": "code",
   "execution_count": 8,
   "id": "f5d0f1de",
   "metadata": {},
   "outputs": [],
   "source": [
    "!git remote add origin git@github.com:lyhue1991/coze.git"
   ]
  },
  {
   "cell_type": "code",
   "execution_count": 10,
   "id": "12e49933",
   "metadata": {},
   "outputs": [
    {
     "name": "stdout",
     "output_type": "stream",
     "text": [
      "Enumerating objects: 21, done.\n",
      "Counting objects: 100% (21/21), done.\n",
      "Delta compression using up to 8 threads\n",
      "Compressing objects: 100% (20/20), done.\n",
      "Writing objects: 100% (21/21), 2.41 MiB | 676.00 KiB/s, done.\n",
      "Total 21 (delta 1), reused 0 (delta 0), pack-reused 0\n",
      "remote: Resolving deltas: 100% (1/1), done.\u001b[K\n",
      "To github.com:lyhue1991/coze.git\n",
      " * [new branch]      main -> main\n"
     ]
    }
   ],
   "source": [
    "!git push  origin main"
   ]
  },
  {
   "cell_type": "code",
   "execution_count": null,
   "id": "de4d9b10",
   "metadata": {},
   "outputs": [],
   "source": [
    "!git remote add gitee https://gitee.com/Python_Ai_Road/torchkeras\n"
   ]
  },
  {
   "cell_type": "code",
   "execution_count": null,
   "id": "1e3cab48-5eff-4557-9cf0-5deb42441e91",
   "metadata": {},
   "outputs": [],
   "source": [
    "!git push  gitee master "
   ]
  },
  {
   "cell_type": "code",
   "execution_count": null,
   "id": "71c46aa4-7897-4641-9bae-44c76e8d22d9",
   "metadata": {},
   "outputs": [],
   "source": []
  },
  {
   "cell_type": "code",
   "execution_count": null,
   "id": "32acb452-68b3-4182-b74d-89c0aebfca8e",
   "metadata": {},
   "outputs": [],
   "source": []
  },
  {
   "cell_type": "markdown",
   "id": "c6115644",
   "metadata": {},
   "source": [
    "## gitignore"
   ]
  },
  {
   "cell_type": "code",
   "execution_count": 3,
   "id": "644f0c51",
   "metadata": {},
   "outputs": [
    {
     "name": "stdout",
     "output_type": "stream",
     "text": [
      "Overwriting .gitignore\n"
     ]
    }
   ],
   "source": [
    "%%writefile .gitignore\n",
    ".DS_store\n",
    ".ipynb_checkpoints\n",
    ".ipynb_checkpoints/* \n",
    "coze.egg-info/*\n",
    "dist/*\n",
    "build/*\n",
    "coze/__pycache__/\n",
    ".idea"
   ]
  }
 ],
 "metadata": {
  "jupytext": {
   "cell_metadata_filter": "-all",
   "main_language": "python",
   "notebook_metadata_filter": "-all"
  },
  "kernelspec": {
   "display_name": "Python 3 (ipykernel)",
   "language": "python",
   "name": "python3"
  },
  "language_info": {
   "codemirror_mode": {
    "name": "ipython",
    "version": 3
   },
   "file_extension": ".py",
   "mimetype": "text/x-python",
   "name": "python",
   "nbconvert_exporter": "python",
   "pygments_lexer": "ipython3",
   "version": "3.10.6"
  }
 },
 "nbformat": 4,
 "nbformat_minor": 5
}
